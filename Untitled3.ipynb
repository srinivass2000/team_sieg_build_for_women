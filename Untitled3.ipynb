{
  "nbformat": 4,
  "nbformat_minor": 0,
  "metadata": {
    "colab": {
      "name": "Untitled3.ipynb",
      "provenance": []
    },
    "kernelspec": {
      "name": "python3",
      "display_name": "Python 3"
    }
  },
  "cells": [
    {
      "cell_type": "code",
      "metadata": {
        "id": "gIuXO4hj_18j"
      },
      "source": [
        "import numpy as np\r\n",
        "import pandas as pd\r\n",
        "import pickle"
      ],
      "execution_count": null,
      "outputs": []
    },
    {
      "cell_type": "code",
      "metadata": {
        "id": "1nVjMw1Q_9DY"
      },
      "source": [
        "df = pd.read_csv('df (version 1).csv')\r\n",
        "#df.head()"
      ],
      "execution_count": null,
      "outputs": []
    },
    {
      "cell_type": "code",
      "metadata": {
        "id": "Q--CzAGy_-0Z"
      },
      "source": [
        "df = df.dropna()\r\n",
        "#df.info()"
      ],
      "execution_count": null,
      "outputs": []
    },
    {
      "cell_type": "code",
      "metadata": {
        "id": "Lt2kJ88LAKt8"
      },
      "source": [
        "df = df[df['Amount in USD'] != 'disclosed']\r\n",
        "df = df[ df['Amount in USD'] != 'unknown']\r\n",
        "df = df[df['Amount in USD'] != 'undisclosed']\r\n",
        "df = df[df['Amount in USD'] !=  '#VALUE!']\r\n",
        "df = df[df['Amount in USD'] != 'N/A']\r\n",
        "df = df.drop(['InvestmentnType'],axis=1)\r\n",
        "df = df.drop(['Amount in USD'],axis=1)\r\n",
        "##df = df.drop(['SubVertical'],axis=1)"
      ],
      "execution_count": null,
      "outputs": []
    },
    {
      "cell_type": "code",
      "metadata": {
        "id": "sxwabkeuAORl"
      },
      "source": [
        "y = df['Amount']\r\n",
        "x = df.drop(['Amount'],axis=1)\r\n",
        "x = x.values\r\n",
        "x = x.reshape(len(x),-1)"
      ],
      "execution_count": null,
      "outputs": []
    },
    {
      "cell_type": "code",
      "metadata": {
        "id": "2lmU4Eq5AQkJ"
      },
      "source": [
        "##xd = xd.drop(['Unnamed: 0'],axis=1)\r\n",
        "##y[y=='#VALUE!']\r\n",
        "y[55] = 23\r\n",
        "y[104] = 33\r\n",
        "y[216] =12.33\r\n",
        "y[254] = 7\r\n",
        "y[262] = 4.5\r\n",
        "y[266] = 18\r\n",
        "y[270] = 34\r\n",
        "y[101] = 2.3\r\n",
        "\r\n",
        "y0 = []\r\n",
        "\r\n",
        "for i in range(0,len(y)):\r\n",
        "  y0.append(float(y[i]))"
      ],
      "execution_count": null,
      "outputs": []
    },
    {
      "cell_type": "code",
      "metadata": {
        "id": "OhhDeyazASgb"
      },
      "source": [
        "from sklearn.compose import ColumnTransformer\r\n",
        "from sklearn.preprocessing import OneHotEncoder\r\n",
        "ct = ColumnTransformer(transformers=[('encoder', OneHotEncoder(), [0,1,2])])\r\n"
      ],
      "execution_count": null,
      "outputs": []
    },
    {
      "cell_type": "code",
      "metadata": {
        "colab": {
          "base_uri": "https://localhost:8080/"
        },
        "id": "EHqzk1-PBCHv",
        "outputId": "a2d6f5ae-e82e-44c0-b7f7-4e00598d3efc"
      },
      "source": [
        "xe = (ct.fit_transform(x))\r\n",
        "xe"
      ],
      "execution_count": null,
      "outputs": [
        {
          "output_type": "execute_result",
          "data": {
            "text/plain": [
              "<1415x1438 sparse matrix of type '<class 'numpy.float64'>'\n",
              "\twith 4245 stored elements in Compressed Sparse Row format>"
            ]
          },
          "metadata": {
            "tags": []
          },
          "execution_count": 22
        }
      ]
    },
    {
      "cell_type": "code",
      "metadata": {
        "colab": {
          "base_uri": "https://localhost:8080/"
        },
        "id": "oIf88ApeBMWM",
        "outputId": "31d0c980-01c8-4f01-a99e-925e93f5fb96"
      },
      "source": [
        "from sklearn.tree import DecisionTreeRegressor\r\n",
        "dtr = DecisionTreeRegressor(random_state=0)\r\n",
        "dtr.fit(xe,y0)\r\n",
        "dtr.score(xe,y0)"
      ],
      "execution_count": null,
      "outputs": [
        {
          "output_type": "execute_result",
          "data": {
            "text/plain": [
              "0.8360917197286473"
            ]
          },
          "metadata": {
            "tags": []
          },
          "execution_count": 23
        }
      ]
    },
    {
      "cell_type": "code",
      "metadata": {
        "id": "79C-HwRvBWXY"
      },
      "source": [
        "a = [[\"Transport\",\"E-learning\",\"Gurgaon\"]]\r\n",
        "ae = (ct.transform(a))"
      ],
      "execution_count": null,
      "outputs": []
    },
    {
      "cell_type": "code",
      "metadata": {
        "id": "0wGp7l64DFRP"
      },
      "source": [
        "z = dtr.predict(ae)"
      ],
      "execution_count": null,
      "outputs": []
    },
    {
      "cell_type": "code",
      "metadata": {
        "id": "KwfPzr3NDkmX"
      },
      "source": [
        "filename = 'investment_pred_model_ct.pkl'\r\n",
        "pickle.dump(ct, open(filename, 'wb'))"
      ],
      "execution_count": null,
      "outputs": []
    },
    {
      "cell_type": "code",
      "metadata": {
        "id": "_2odSXuvK42v"
      },
      "source": [
        ""
      ],
      "execution_count": null,
      "outputs": []
    },
    {
      "cell_type": "code",
      "metadata": {
        "id": "S5U-rSOqZkgE"
      },
      "source": [
        ""
      ],
      "execution_count": null,
      "outputs": []
    }
  ]
}