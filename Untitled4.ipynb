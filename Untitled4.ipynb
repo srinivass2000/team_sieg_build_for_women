{
  "nbformat": 4,
  "nbformat_minor": 0,
  "metadata": {
    "colab": {
      "name": "Untitled4.ipynb",
      "provenance": []
    },
    "kernelspec": {
      "name": "python3",
      "display_name": "Python 3"
    }
  },
  "cells": [
    {
      "cell_type": "code",
      "metadata": {
        "id": "lO4ggMKUqUmp"
      },
      "source": [
        "import numpy as np\r\n",
        "import pandas as pd\r\n",
        "import pickle"
      ],
      "execution_count": null,
      "outputs": []
    },
    {
      "cell_type": "code",
      "metadata": {
        "colab": {
          "base_uri": "https://localhost:8080/",
          "height": 195
        },
        "id": "pGd6BW9RqXQ-",
        "outputId": "e4b7c5a8-38dd-4813-b3d2-daa237b551ac"
      },
      "source": [
        "df = pd.read_csv('Salary_Data.csv')\r\n",
        "df.head()"
      ],
      "execution_count": null,
      "outputs": [
        {
          "output_type": "execute_result",
          "data": {
            "text/html": [
              "<div>\n",
              "<style scoped>\n",
              "    .dataframe tbody tr th:only-of-type {\n",
              "        vertical-align: middle;\n",
              "    }\n",
              "\n",
              "    .dataframe tbody tr th {\n",
              "        vertical-align: top;\n",
              "    }\n",
              "\n",
              "    .dataframe thead th {\n",
              "        text-align: right;\n",
              "    }\n",
              "</style>\n",
              "<table border=\"1\" class=\"dataframe\">\n",
              "  <thead>\n",
              "    <tr style=\"text-align: right;\">\n",
              "      <th></th>\n",
              "      <th>hours-per-week</th>\n",
              "      <th>education</th>\n",
              "      <th>workclass</th>\n",
              "      <th>age</th>\n",
              "      <th>YearofExperience</th>\n",
              "      <th>fnlwgt</th>\n",
              "    </tr>\n",
              "  </thead>\n",
              "  <tbody>\n",
              "    <tr>\n",
              "      <th>0</th>\n",
              "      <td>40</td>\n",
              "      <td>11th</td>\n",
              "      <td>Private</td>\n",
              "      <td>25</td>\n",
              "      <td>2.5</td>\n",
              "      <td>226802</td>\n",
              "    </tr>\n",
              "    <tr>\n",
              "      <th>1</th>\n",
              "      <td>50</td>\n",
              "      <td>HS-grad</td>\n",
              "      <td>Private</td>\n",
              "      <td>38</td>\n",
              "      <td>3.8</td>\n",
              "      <td>89814</td>\n",
              "    </tr>\n",
              "    <tr>\n",
              "      <th>2</th>\n",
              "      <td>40</td>\n",
              "      <td>Assoc-acdm</td>\n",
              "      <td>Local-gov</td>\n",
              "      <td>28</td>\n",
              "      <td>2.8</td>\n",
              "      <td>336951</td>\n",
              "    </tr>\n",
              "    <tr>\n",
              "      <th>3</th>\n",
              "      <td>40</td>\n",
              "      <td>Some-college</td>\n",
              "      <td>Private</td>\n",
              "      <td>44</td>\n",
              "      <td>4.4</td>\n",
              "      <td>160323</td>\n",
              "    </tr>\n",
              "    <tr>\n",
              "      <th>4</th>\n",
              "      <td>30</td>\n",
              "      <td>Some-college</td>\n",
              "      <td>?</td>\n",
              "      <td>18</td>\n",
              "      <td>1.8</td>\n",
              "      <td>103497</td>\n",
              "    </tr>\n",
              "  </tbody>\n",
              "</table>\n",
              "</div>"
            ],
            "text/plain": [
              "   hours-per-week     education  workclass  age  YearofExperience  fnlwgt\n",
              "0              40          11th    Private   25               2.5  226802\n",
              "1              50       HS-grad    Private   38               3.8   89814\n",
              "2              40    Assoc-acdm  Local-gov   28               2.8  336951\n",
              "3              40  Some-college    Private   44               4.4  160323\n",
              "4              30  Some-college          ?   18               1.8  103497"
            ]
          },
          "metadata": {
            "tags": []
          },
          "execution_count": 65
        }
      ]
    },
    {
      "cell_type": "code",
      "metadata": {
        "id": "2AdmUjUcK2fc"
      },
      "source": [
        "df = df[df['workclass'] != '?']"
      ],
      "execution_count": null,
      "outputs": []
    },
    {
      "cell_type": "code",
      "metadata": {
        "id": "n9MCMUdsv0af"
      },
      "source": [
        "df = df.drop(['age'],axis=1)\r\n",
        "y = df['fnlwgt'].values\r\n",
        "y = y.reshape(len(y),-1)\r\n",
        "x = df.drop(['fnlwgt'],axis=1)\r\n",
        "x = x.values\r\n",
        "x = x.reshape(len(x),-1)"
      ],
      "execution_count": null,
      "outputs": []
    },
    {
      "cell_type": "code",
      "metadata": {
        "id": "kH0ArYU-wlHd"
      },
      "source": [
        "from sklearn.compose import ColumnTransformer\r\n",
        "from sklearn.preprocessing import OneHotEncoder\r\n",
        "ct2 = ColumnTransformer(transformers=[('encoder',OneHotEncoder(),[1,2])],remainder='passthrough')\r\n",
        "xe = ct2.fit_transform(x)"
      ],
      "execution_count": null,
      "outputs": []
    },
    {
      "cell_type": "code",
      "metadata": {
        "id": "cmJ-x_nmLX6O"
      },
      "source": [
        "# from sklearn.preprocessing import StandardScaler\r\n",
        "# sc = StandardScaler()\r\n",
        "# xes = sc.fit_transform(xe)"
      ],
      "execution_count": null,
      "outputs": []
    },
    {
      "cell_type": "code",
      "metadata": {
        "colab": {
          "base_uri": "https://localhost:8080/"
        },
        "id": "YvT5xxXkIeZG",
        "outputId": "9498ae58-b18f-4063-e7db-bfafbcf09628"
      },
      "source": [
        "from sklearn.tree import DecisionTreeRegressor\r\n",
        "dtr = DecisionTreeRegressor(random_state=0)\r\n",
        "dtr.fit(xe,y)\r\n",
        "##xgb.score(xe,y)"
      ],
      "execution_count": null,
      "outputs": [
        {
          "output_type": "execute_result",
          "data": {
            "text/plain": [
              "DecisionTreeRegressor(ccp_alpha=0.0, criterion='mse', max_depth=None,\n",
              "                      max_features=None, max_leaf_nodes=None,\n",
              "                      min_impurity_decrease=0.0, min_impurity_split=None,\n",
              "                      min_samples_leaf=1, min_samples_split=2,\n",
              "                      min_weight_fraction_leaf=0.0, presort='deprecated',\n",
              "                      random_state=0, splitter='best')"
            ]
          },
          "metadata": {
            "tags": []
          },
          "execution_count": 70
        }
      ]
    },
    {
      "cell_type": "code",
      "metadata": {
        "id": "lBGcjTJPIsjT"
      },
      "source": [
        "# a = [[70,'Doctorate','Local-gov',7]]\r\n",
        "# ae = ct.transform(a)\r\n",
        "# dtr.predict(ae)"
      ],
      "execution_count": null,
      "outputs": []
    },
    {
      "cell_type": "code",
      "metadata": {
        "id": "d07qCEw6YfMv"
      },
      "source": [
        "filename = 'model2_ct.pkl'\r\n",
        "pickle.dump(ct2,open(filename,'wb'))"
      ],
      "execution_count": null,
      "outputs": []
    }
  ]
}